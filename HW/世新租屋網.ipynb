{
  "nbformat": 4,
  "nbformat_minor": 0,
  "metadata": {
    "colab": {
      "name": "世新租屋網.ipynb",
      "version": "0.3.2",
      "provenance": [],
      "collapsed_sections": []
    },
    "kernelspec": {
      "name": "python3",
      "display_name": "Python 3"
    }
  },
  "cells": [
    {
      "metadata": {
        "id": "Yh64WPSUk1UB",
        "colab_type": "text"
      },
      "cell_type": "markdown",
      "source": [
        "#研究動機\n",
        "###第一次租屋的同學,在沒有經驗與對當地環境不熟悉的情形下,最理想的狀況是先透過學校住宿組、生活輔導組的協助,先初步瞭解目前住宿居住狀況與當地行情,再透過學長姐的口碑介紹空餘房間,藉此瞭解屋況與房東、室友的狀況,以免遇到惡房東或屋況不佳的房子。大學周邊的租屋市場以前總是供不應求,但受到少子化影響,租客反而年年減少,根據統計,目前全台大學周邊待租住宅逾 3.2 萬間,可能會導致房東削價出租,根據這個議題,我們想要鎖定在世新大學附近的租屋市場,繼續探討其他會影響租金的原因。"
      ]
    },
    {
      "metadata": {
        "id": "d0mzsngFmHPH",
        "colab_type": "text"
      },
      "cell_type": "markdown",
      "source": [
        "#研究目的\n",
        "####1. 探討世新學生租屋網的房租與租屋條件之間的影響。\n",
        "####2. 探討房租對租屋處到學校距離的影響。\n",
        "####3. 探討其他租屋條件,是否為重要遺漏變數。\n",
        "####4. 透過本研究實證結果,提供世新大學租屋網的房東參考研究,同時也讓世新的學生對於房東的租金與租屋條件,更有討論的空間。"
      ]
    },
    {
      "metadata": {
        "id": "3-oPW7_xmlKI",
        "colab_type": "text"
      },
      "cell_type": "markdown",
      "source": [
        "#資料說明\n",
        "####利用世新大學租屋網的租屋資訊,比對不同的租屋條件,有不同的租金價格。選出距離、房型、房間數、坪數、電費、水費、網路費、性別限制、押金、洗衣機、第四台、電視、頂樓加蓋、冷氣、冰箱等變數,來進行分析。\n"
      ]
    },
    {
      "metadata": {
        "id": "ABnFNg0CxrK1",
        "colab_type": "text"
      },
      "cell_type": "markdown",
      "source": [
        "![information](https://i.imgur.com/EI9ui9Z.png)"
      ]
    },
    {
      "metadata": {
        "id": "_DIbD6Erq84G",
        "colab_type": "text"
      },
      "cell_type": "markdown",
      "source": [
        "#研究方法\n",
        "####利用多元迴歸,應變數為租金(rent),距離、房型、房間數、坪數、電費、水費、網路費、性別限制、押金、洗衣機、第四台、電視、頂樓加蓋、冷氣、冰箱為自變數。\n",
        "\n",
        "\n",
        "####多元迴歸模型\n",
        "ŷ= β0+ β1 shape + β2 distance + β3 room + β4 boy +β5 girl + β6 anyone\n",
        "+ β7 deposit + β8 size + β9 electric +β10 water + β11 net + β12 wm +\n",
        "Β13 four + β14 tv + β15 plus + β16 condition + β17 icebox"
      ]
    },
    {
      "metadata": {
        "colab_type": "code",
        "id": "4bh66n-TluFY",
        "colab": {}
      },
      "cell_type": "code",
      "source": [
        "#世新租屋網 租金與租屋條件 表格\n",
        "import pandas as pd\n",
        "\n",
        "csv_url=\"https://docs.google.com/spreadsheets/d/e/2PACX-1vS9wpxLaKnhlTbLxAT9FC2jMtwBPYO5pDdmH-jVkitSGH5zQmcifvns5hnlEfWZrFVs5LkKsk7vOv_j/pub?gid=0&single=true&output=csv\"\n",
        "shu = pd.read_csv(csv_url)\n",
        "shu"
      ],
      "execution_count": 0,
      "outputs": []
    },
    {
      "metadata": {
        "id": "pffj58Nvz28t",
        "colab_type": "text"
      },
      "cell_type": "markdown",
      "source": [
        "####租金\n",
        "####學生租屋市場 大部分租金落在4000~6000之間"
      ]
    },
    {
      "metadata": {
        "id": "PvwjQ2I4wsBc",
        "colab_type": "code",
        "outputId": "394324cc-cce1-4fdb-f285-083312cf5ba3",
        "colab": {
          "base_uri": "https://localhost:8080/",
          "height": 363
        }
      },
      "cell_type": "code",
      "source": [
        "money = shu[\"rent\"]\n",
        "plt.hist(money, bins=50)\n",
        "plt.title(\"rent \")\n",
        "plt.show()"
      ],
      "execution_count": 0,
      "outputs": [
        {
          "output_type": "display_data",
          "data": {
            "image/png": "[encoded data removed]",
            "text/plain": [
              "<matplotlib.figure.Figure at 0x7f5044401c50>"
            ]
          },
          "metadata": {
            "tags": []
          }
        }
      ]
    },
    {
      "metadata": {
        "id": "zm4vnA-SYbOY",
        "colab_type": "code",
        "outputId": "5da7d635-76b3-41d0-a8b1-d5d4a8033b99",
        "colab": {
          "base_uri": "https://localhost:8080/",
          "height": 35
        }
      },
      "cell_type": "code",
      "source": [
        "#確認 122 rows × 19 columns\n",
        "import matplotlib.pyplot as plt\n",
        "import pandas as pd\n",
        "\n",
        "shu = pd.read_csv(\"https://docs.google.com/spreadsheets/d/e/2PACX-1vS9wpxLaKnhlTbLxAT9FC2jMtwBPYO5pDdmH-jVkitSGH5zQmcifvns5hnlEfWZrFVs5LkKsk7vOv_j/pub?gid=0&single=true&output=csv\")\n",
        "shu.shape"
      ],
      "execution_count": 0,
      "outputs": [
        {
          "output_type": "execute_result",
          "data": {
            "text/plain": [
              "(122, 19)"
            ]
          },
          "metadata": {
            "tags": []
          },
          "execution_count": 2
        }
      ]
    },
    {
      "metadata": {
        "id": "7_DHNH2909Y1",
        "colab_type": "text"
      },
      "cell_type": "markdown",
      "source": [
        "####洗衣機變數"
      ]
    },
    {
      "metadata": {
        "id": "Wdyyh-Me2tl6",
        "colab_type": "code",
        "outputId": "5bb41a88-07cd-4e85-9386-a98b5b806905",
        "colab": {
          "base_uri": "https://localhost:8080/",
          "height": 34
        }
      },
      "cell_type": "code",
      "source": [
        "#變數wm為虛擬變數  洗衣機的提供   1為有提供  0為沒有提供\n",
        "\n",
        "\n",
        "w_m = shu[shu[\"WM\"] == 1]\n",
        "w_m.shape\n"
      ],
      "execution_count": 0,
      "outputs": [
        {
          "output_type": "execute_result",
          "data": {
            "text/plain": [
              "(121, 19)"
            ]
          },
          "metadata": {
            "tags": []
          },
          "execution_count": 39
        }
      ]
    },
    {
      "metadata": {
        "id": "ykF5V38q3Eix",
        "colab_type": "code",
        "colab": {}
      },
      "cell_type": "code",
      "source": [
        "grouped = shu.groupby(\"WM\")\n",
        "w_m = grouped[\"rent\"].count().sort_values(ascending=False)"
      ],
      "execution_count": 0,
      "outputs": []
    },
    {
      "metadata": {
        "id": "uGe4V8WMen62",
        "colab_type": "code",
        "outputId": "28910b57-514f-4c40-a641-dc82a789fded",
        "colab": {
          "base_uri": "https://localhost:8080/",
          "height": 34
        }
      },
      "cell_type": "code",
      "source": [
        "w_m.index"
      ],
      "execution_count": 0,
      "outputs": [
        {
          "output_type": "execute_result",
          "data": {
            "text/plain": [
              "Int64Index([1, 0], dtype='int64', name='WM')"
            ]
          },
          "metadata": {
            "tags": []
          },
          "execution_count": 41
        }
      ]
    },
    {
      "metadata": {
        "id": "7s-fS7NAfEjN",
        "colab_type": "code",
        "outputId": "669e06db-5c87-4392-dce9-d5faa049e602",
        "colab": {
          "base_uri": "https://localhost:8080/",
          "height": 34
        }
      },
      "cell_type": "code",
      "source": [
        "w_m.values"
      ],
      "execution_count": 0,
      "outputs": [
        {
          "output_type": "execute_result",
          "data": {
            "text/plain": [
              "array([121,   1])"
            ]
          },
          "metadata": {
            "tags": []
          },
          "execution_count": 42
        }
      ]
    },
    {
      "metadata": {
        "id": "eoZDrwX9zoJV",
        "colab_type": "text"
      },
      "cell_type": "markdown",
      "source": [
        "####洗衣機提供數量圖\n",
        "####這邊說明了幾乎所有9成的房東都有提供洗衣機     \n",
        "####而其他水費、網路費、冷氣、冰箱這些變數 也都呈現這樣的狀況\n",
        "####從這邊看出沒有提供這些項目的房東\n",
        "####需不要也提供 來增加自己的競爭力"
      ]
    },
    {
      "metadata": {
        "id": "ocTcnrwafj87",
        "colab_type": "code",
        "outputId": "420f9c33-94b8-453d-bd09-915855f627e7",
        "colab": {
          "base_uri": "https://localhost:8080/",
          "height": 376
        }
      },
      "cell_type": "code",
      "source": [
        "long = len(w_m.values)\n",
        "plt.bar(range(long), w_m.values)\n",
        "plt.xticks(range(long), w_m.index)\n",
        "plt.title(\"the count of suite \")\n",
        "plt.xlabel(\"wm\")\n",
        "plt.ylabel(\"count\")\n",
        "plt.show()"
      ],
      "execution_count": 0,
      "outputs": [
        {
          "output_type": "display_data",
          "data": {
            "image/png": "[encoded data removed]",
            "text/plain": [
              "<matplotlib.figure.Figure at 0x7fcec77aef98>"
            ]
          },
          "metadata": {
            "tags": []
          }
        }
      ]
    },
    {
      "metadata": {
        "id": "C8QH3RIC1Gfk",
        "colab_type": "text"
      },
      "cell_type": "markdown",
      "source": [
        "####在研究發現距離並不顯著，增加距離的平方，建立新的方程式\n",
        "####透過距離的非線性迴歸，發現隨著距離越遠租金越便宜，而到了1.75km，租金的邊際又會提高，可能是因為有較高的品質"
      ]
    },
    {
      "metadata": {
        "id": "rC8-kTUdjKmh",
        "colab_type": "code",
        "outputId": "443dc07c-2786-4b75-ff1b-53aac9e315ba",
        "colab": {
          "base_uri": "https://localhost:8080/",
          "height": 347
        }
      },
      "cell_type": "code",
      "source": [
        "import matplotlib.pyplot as plt \n",
        "import numpy as np\n",
        "\n",
        "x = np.arange(0.75,3)\n",
        "y = 271*(x*x)-921*x\n",
        "\n",
        "plt.plot(x,y)\n",
        "plt.show()\n"
      ],
      "execution_count": 0,
      "outputs": [
        {
          "output_type": "display_data",
          "data": {
            "image/png": "[encoded data removed]",
            "text/plain": [
              "<matplotlib.figure.Figure at 0x7fcecadbc630>"
            ]
          },
          "metadata": {
            "tags": []
          }
        }
      ]
    },
    {
      "metadata": {
        "id": "Eh6C8uNp2jxN",
        "colab_type": "text"
      },
      "cell_type": "markdown",
      "source": [
        "#結論與政策建議\n",
        "####在相同租金的情況下，如果房東沒有提供水費、網路費、洗衣機、冷氣、冰箱這些項目，或許可以考慮提供以增加競爭力，學生也可以跟房東有更多的討論空間。雖然租屋條件限女比限男還要多，但是研究發現性別影響並不顯著，是一個性別平等的租屋市場。綜合以上，世新租屋網是一個友善的租屋市場。\n",
        "\n",
        "####政策建議方面，對於以學校為中心，超過 1.7 公里給予補助(交通費)，提供誘因，讓想租屋的學生有更多的選擇，解決世新附近潮濕的問題。"
      ]
    }
  ]
}